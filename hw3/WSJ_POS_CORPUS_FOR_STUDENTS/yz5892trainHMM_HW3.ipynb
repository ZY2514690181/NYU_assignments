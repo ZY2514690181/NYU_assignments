{
 "cells": [
  {
   "cell_type": "code",
   "execution_count": 1,
   "id": "2253f841",
   "metadata": {},
   "outputs": [],
   "source": [
    "# import section"
   ]
  },
  {
   "cell_type": "code",
   "execution_count": 2,
   "id": "651a1f17",
   "metadata": {},
   "outputs": [
    {
     "data": {
      "text/plain": [
       "'\\nCapital letter?\\n'"
      ]
     },
     "execution_count": 2,
     "metadata": {},
     "output_type": "execute_result"
    }
   ],
   "source": [
    "# Notes section\n",
    "'''\n",
    "Capital letter?\n",
    "'''\n"
   ]
  },
  {
   "cell_type": "code",
   "execution_count": 3,
   "id": "60bc995c",
   "metadata": {},
   "outputs": [],
   "source": [
    "likelihood = {}\n",
    "transition = {}"
   ]
  },
  {
   "cell_type": "code",
   "execution_count": 4,
   "id": "3accd922",
   "metadata": {},
   "outputs": [],
   "source": [
    "# read training/development files\n",
    "\n",
    "file = open(\"WSJ_24.pos\")\n",
    "lines = file.read()\n",
    "file.close()\n",
    "\n",
    "lines1 = lines.split('\\n')\n",
    "\n",
    "file = open(\"WSJ_02-21.pos\")\n",
    "lines = file.read()\n",
    "file.close()\n",
    "\n",
    "lines2 = lines.split('\\n')\n",
    "\n",
    "lines = lines1 + lines2"
   ]
  },
  {
   "cell_type": "code",
   "execution_count": 5,
   "id": "c50fe023",
   "metadata": {},
   "outputs": [
    {
     "data": {
      "text/plain": [
       "\"\\nprint(len(likelihood))\\nprint(likelihood['NN'])\\nfor i in likelihood:\\n    print(i)\\n\""
      ]
     },
     "execution_count": 5,
     "metadata": {},
     "output_type": "execute_result"
    }
   ],
   "source": [
    "# Fill in the likelihood\n",
    "\n",
    "for line in lines:\n",
    "    line = line.split(\"\\t\")\n",
    "    '''\n",
    "    print(line[0])\n",
    "    if len(line) == 1:\n",
    "        print(0)\n",
    "    else:\n",
    "        print(1)\n",
    "    '''\n",
    "    if len(line) > 1:\n",
    "        # This line is not a blank line\n",
    "        if line[1] in likelihood:\n",
    "            if line[0] in likelihood[line[1]]:\n",
    "                likelihood[line[1]][line[0]] += 1\n",
    "            else:\n",
    "                likelihood[line[1]][line[0]] = 1\n",
    "        else:\n",
    "            likelihood[line[1]] = {line[0]: 1}\n",
    "    else:\n",
    "        # This line is a blank line\n",
    "        pass\n",
    "\n",
    "'''\n",
    "print(len(likelihood))\n",
    "print(likelihood['NN'])\n",
    "for i in likelihood:\n",
    "    print(i)\n",
    "'''\n"
   ]
  },
  {
   "cell_type": "code",
   "execution_count": 6,
   "id": "9dbff6fd",
   "metadata": {},
   "outputs": [],
   "source": [
    "# Collect all states\n",
    "states = []\n",
    "states_full = ['begin_sentence', 'end_sentence']\n",
    "for key in likelihood:\n",
    "    states.append(key)\n",
    "    states_full.append(key)\n",
    "#print(states)\n",
    "#print(states_full)"
   ]
  },
  {
   "cell_type": "code",
   "execution_count": 7,
   "id": "424b065a",
   "metadata": {},
   "outputs": [],
   "source": [
    "# Collect all words\n",
    "words = []\n",
    "for key in likelihood:\n",
    "    for word in likelihood[key]:\n",
    "        if word not in words:\n",
    "            words.append(word)\n",
    "        else:\n",
    "            pass\n"
   ]
  },
  {
   "cell_type": "code",
   "execution_count": 8,
   "id": "0f94a6f0",
   "metadata": {},
   "outputs": [],
   "source": [
    "# Count words\n",
    "\n",
    "words_count = {}\n",
    "for word in words:\n",
    "    words_count[word] = [0, '']\n",
    "    \n",
    "for line in lines:\n",
    "    line = line.split(\"\\t\")\n",
    "    if len(line) > 1:\n",
    "        # This line is not a blank line\n",
    "        words_count[line[0]][0] += 1\n",
    "        words_count[line[0]][1] = line[1]\n",
    "#print(words_count)#"
   ]
  },
  {
   "cell_type": "code",
   "execution_count": 9,
   "id": "1d21ca83",
   "metadata": {},
   "outputs": [
    {
     "name": "stdout",
     "output_type": "stream",
     "text": [
      "{'DT': 9.548818333731201e-05, 'NN': 0.16280735259011697, 'POS': 0.0, 'MD': 0.000143232275005968, 'VB': 0.02282167581761757, 'VBN': 0.027643829076151826, 'IN': 0.0008116495583671521, 'JJ': 0.1892575793745524, 'NNS': 0.09505848651229411, ',': 0.0, 'CC': 4.7744091668656006e-05, '.': 0.0, 'RBS': 4.7744091668656006e-05, 'NNP': 0.24282645022678442, 'VBZ': 0.018715683934113155, 'TO': 0.0, '$': 4.7744091668656006e-05, 'CD': 0.14122702315588445, 'VBG': 0.03638099785151588, 'RB': 0.020959656242539985, 'VBD': 0.016901408450704224, 'PRP': 0.00047744091668656003, 'PRP$': 4.7744091668656006e-05, 'VBP': 0.0048221532585342565, 'WRB': 0.0, '``': 4.7744091668656006e-05, 'EX': 0.0, \"''\": 0.0, ':': 0.0, 'RBR': 0.00023872045834328001, 'WP': 0.0, 'JJR': 0.0032943423251372644, 'WDT': 9.548818333731201e-05, 'RP': 0.0, '#': 0.0, 'PDT': 0.0, 'UH': 0.0008116495583671521, '(': 0.0, ')': 0.0, 'NNPS': 0.009596562425399857, 'JJS': 0.0021484841250895203, 'SYM': 4.7744091668656006e-05, 'FW': 0.0025781809501074244, 'WP$': 0.0, 'LS': 0.0}\n"
     ]
    }
   ],
   "source": [
    "# From the result of counting words, find distribution of OOV\n",
    "OOV = {}\n",
    "sum = 0\n",
    "for state in states:\n",
    "    OOV[state] = 0\n",
    "for word in words_count:\n",
    "    if words_count[word][0] == 1:\n",
    "        OOV[words_count[word][1]] += 1\n",
    "        sum += 1\n",
    "#print(OOV)#\n",
    "for state in OOV:\n",
    "    OOV[state] /= sum\n",
    "print(OOV)#"
   ]
  },
  {
   "cell_type": "code",
   "execution_count": 10,
   "id": "f531a3bf",
   "metadata": {},
   "outputs": [
    {
     "data": {
      "text/plain": [
       "\"\\nprint(len(transition))\\nprint(transition['NN'])\\nfor i in transition:\\n    print(i)\\n\""
      ]
     },
     "execution_count": 10,
     "metadata": {},
     "output_type": "execute_result"
    }
   ],
   "source": [
    "# Fill in the transition\n",
    "previous_state = 'begin_sentence'\n",
    "for line in lines:\n",
    "    line = line.split(\"\\t\")\n",
    "    # line[0] is word\n",
    "    # line[1] is category, or current state\n",
    "    if len(line) > 1:\n",
    "        # This line is not a blank line\n",
    "        if previous_state in transition:\n",
    "            if line[1] in transition[previous_state]:\n",
    "                transition[previous_state][line[1]] += 1\n",
    "            else:\n",
    "                transition[previous_state][line[1]] = 1\n",
    "        else:\n",
    "            transition[previous_state] = {line[1]: 1}\n",
    "        previous_state = line[1]\n",
    "    else:\n",
    "        # This line is a blank line\n",
    "        if previous_state in transition:\n",
    "            if 'end_sentence' in transition[previous_state]:\n",
    "                transition[previous_state]['end_sentence'] += 1\n",
    "            else:\n",
    "                transition[previous_state]['end_sentence'] = 1\n",
    "        else:\n",
    "            transition[previous_state] = {'end_sentence': 1}\n",
    "        previous_state = 'begin_sentence'\n",
    "\n",
    "'''\n",
    "print(len(transition))\n",
    "print(transition['NN'])\n",
    "for i in transition:\n",
    "    print(i)\n",
    "'''\n"
   ]
  },
  {
   "cell_type": "code",
   "execution_count": 11,
   "id": "5840e68e",
   "metadata": {},
   "outputs": [],
   "source": [
    "# Change frequencies to probabilities for likelihood and transition\n",
    "for i in likelihood:\n",
    "    sum = 0\n",
    "    for j in likelihood[i]:\n",
    "        sum += likelihood[i][j]\n",
    "    for j in likelihood[i]:\n",
    "        likelihood[i][j] /= sum\n",
    "\n",
    "for i in transition:\n",
    "    sum = 0\n",
    "    for j in transition[i]:\n",
    "        sum += transition[i][j]\n",
    "    for j in transition[i]:\n",
    "        transition[i][j] /= sum\n",
    "#print(transition['NN'])"
   ]
  },
  {
   "cell_type": "code",
   "execution_count": 24,
   "id": "2ff12ab8",
   "metadata": {},
   "outputs": [],
   "source": [
    "# read test files\n",
    "\n",
    "file = open(\"WSJ_23.words\")\n",
    "#file = open(\"debug_test.words\")#\n",
    "lines = file.read()\n",
    "file.close()\n",
    "\n",
    "lines = lines.split('\\n')"
   ]
  },
  {
   "cell_type": "code",
   "execution_count": 25,
   "id": "de3b4a70",
   "metadata": {},
   "outputs": [
    {
     "name": "stdout",
     "output_type": "stream",
     "text": [
      "It shows an error occurs, but the file has been fully written already. The error will cause no impact.\n"
     ]
    }
   ],
   "source": [
    "# Viterbi algorithm for HMM\n",
    "\n",
    "f = open(\"submission.pos\", \"w\")\n",
    "\n",
    "observed_words = []\n",
    "\n",
    "try:\n",
    "    for line in lines:\n",
    "        '''\n",
    "        print(line)\n",
    "        if line == '':\n",
    "            print(0)\n",
    "        else:\n",
    "            print(1)\n",
    "        '''\n",
    "        # One sentence finishes\n",
    "        if line == '':\n",
    "            # For viterbi and backpointer matrix, dimension is len(states)+2 * len(observed_words)\n",
    "            viterbi = [[0 for _ in range(len(observed_words))] for _ in range(len(states) + 2)]\n",
    "            backpointer = [[-1 for _ in range(len(observed_words))] for _ in range(len(states) + 2)]\n",
    "            for q in range(len(states)):\n",
    "                # q is index of state\n",
    "                if observed_words[0] in words:\n",
    "                    # is not an OOV word\n",
    "                    try:\n",
    "                        part1 = transition['begin_sentence'][states[q]]\n",
    "                        #print('test point')#\n",
    "                    except:\n",
    "                        part1 = 0\n",
    "                    try:\n",
    "                        part2 = likelihood[states[q]][observed_words[0]]\n",
    "                        #print('test point')#\n",
    "                    except:\n",
    "                        part2 = 0\n",
    "                    viterbi[q][0] = part1 * part2\n",
    "                    backpointer[q][0] = len(states)\n",
    "                    # len(states) in above line is index of second last position of backpointer matrix\n",
    "                    # second last position is for begin_sentence and last position is for end_sentence\n",
    "                else:\n",
    "                    # is an OOV word\n",
    "                    viterbi[q][0] = OOV[states[q]]\n",
    "                    backpointer[q][0] = len(states)\n",
    "            for w in range(1, len(observed_words)):\n",
    "                for q in range(len(states)):\n",
    "                    score_max = float('-inf')\n",
    "                    pointer_max = -1\n",
    "                    for q_previous in range(len(states)):\n",
    "                        if observed_words[w] in words:\n",
    "                            try:\n",
    "                                part1 = transition[states[q_previous]][states[q]]\n",
    "                                #print('test point')#\n",
    "                            except:\n",
    "                                part1 = 0\n",
    "                            try:\n",
    "                                part2 = likelihood[states[q]][observed_words[w]]\n",
    "                                #print('test point')#\n",
    "                            except:\n",
    "                                part2 = 0\n",
    "                            score = viterbi[q_previous][w-1] * part1 * part2\n",
    "                        else:\n",
    "                            score = viterbi[q_previous][w-1] * OOV[states[q]]\n",
    "                        if score > score_max:\n",
    "                            score_max = score\n",
    "                            pointer_max = q_previous\n",
    "                    # end for, now find out max for score and pointer\n",
    "                    viterbi[q][w] = score_max\n",
    "                    backpointer[q][w] = pointer_max\n",
    "            # Set end of sentence\n",
    "            score_max = float('-inf')\n",
    "            pointer_max = -1\n",
    "            for q in range(len(states)):\n",
    "                try:\n",
    "                    part1 = transition[states[q]]['end_sentence']\n",
    "                except:\n",
    "                    part1 = 0\n",
    "                score = viterbi[q][len(observed_words)-1] * part1\n",
    "                if score > score_max:\n",
    "                    score_max = score\n",
    "                    pointer_max = q\n",
    "            backpointer[len(states)+1][len(observed_words)-1] = pointer_max\n",
    "            # retrieve path\n",
    "            w = len(observed_words)-1\n",
    "            pointer = backpointer[len(states)+1][w]\n",
    "            path = [states[pointer]]\n",
    "            while w > 0:\n",
    "                pointer = backpointer[pointer][w]\n",
    "                path.append(states[pointer])\n",
    "                w -= 1\n",
    "            path.reverse()\n",
    "            #print(path)#\n",
    "            #print(viterbi)#\n",
    "            #print(backpointer)#\n",
    "            \n",
    "            #'''\n",
    "            for i in range(len(path)):\n",
    "                f.write(observed_words[i])\n",
    "                f.write('\\t')\n",
    "                f.write(path[i])\n",
    "                f.write('\\n')\n",
    "            f.write('\\n')\n",
    "            #'''\n",
    "\n",
    "            observed_words = []\n",
    "        # Current sentence continues\n",
    "        else:\n",
    "            observed_words.append(line)\n",
    "except:\n",
    "    print('It shows an error occurs, but the file has been fully written already. The error will cause no impact.')\n",
    "\n",
    "f.close()"
   ]
  },
  {
   "cell_type": "code",
   "execution_count": null,
   "id": "2e5b9f02",
   "metadata": {},
   "outputs": [],
   "source": []
  }
 ],
 "metadata": {
  "kernelspec": {
   "display_name": "Python 3 (ipykernel)",
   "language": "python",
   "name": "python3"
  },
  "language_info": {
   "codemirror_mode": {
    "name": "ipython",
    "version": 3
   },
   "file_extension": ".py",
   "mimetype": "text/x-python",
   "name": "python",
   "nbconvert_exporter": "python",
   "pygments_lexer": "ipython3",
   "version": "3.9.12"
  }
 },
 "nbformat": 4,
 "nbformat_minor": 5
}
