{
 "cells": [
  {
   "cell_type": "code",
   "execution_count": 1,
   "id": "283c59cc",
   "metadata": {},
   "outputs": [],
   "source": [
    "# import packages\n",
    "import re\n"
   ]
  },
  {
   "cell_type": "code",
   "execution_count": 8,
   "id": "d711fb2d",
   "metadata": {},
   "outputs": [],
   "source": [
    "# read files\n",
    "\n",
    "file = open(\"test_dollar_phone_corpus.txt\")\n",
    "\n",
    "lines = file.read()\n",
    "file.close()\n"
   ]
  },
  {
   "cell_type": "code",
   "execution_count": null,
   "id": "6d2b3423",
   "metadata": {},
   "outputs": [],
   "source": []
  },
  {
   "cell_type": "code",
   "execution_count": 16,
   "id": "07260dd5",
   "metadata": {},
   "outputs": [
    {
     "name": "stdout",
     "output_type": "stream",
     "text": [
      "(801) 596-1887\n",
      "(801)\n",
      "596-1887\n",
      "(757) 229-4631\n",
      "(757) 229-8912\n",
      "(757) 229-4631\n",
      "(757) 229-4631\n",
      "(757) 229-8912\n",
      "(757) 229-4631\n",
      "(757) 229-8912\n",
      "(757) 229-4631\n",
      "(757) 229-4631\n",
      "(757) 229-4631\n",
      "(757) 229-4631\n",
      "(202) 272-0167\n",
      "(202) 272-0165\n",
      "(617) 918-1111\n",
      "(617) 918-1809\n",
      "(214) 665-2200\n",
      "(800) 887-6063\n",
      "(212) 637-3000\n",
      "(913) 551-7003\n",
      "(212) 637-3526\n",
      "(800) 223-0425\n",
      "(215) 814-5000\n",
      "(303) 312-6312\n",
      "(215) 814-5103\n",
      "(303) 312-6339\n",
      "(800) 438-2474\n",
      "(800) 227-8917\n",
      "(415) 947-8000\n",
      "(404) 562-9900\n",
      "(404) 562-8174\n",
      "(415) 947-3553\n",
      "(800) 241-1754\n",
      "(312) 353-2000\n",
      "(206) 553-1200\n",
      "(312) 353-4135\n",
      "(206) 553-2955\n",
      "(800) 424-4372\n",
      "(850) 934-9200\n",
      "(850) 934-9201\n",
      "(410) 305-2607\n",
      "(334) 270-3400\n",
      "(334) 270-3454\n",
      "(218) 529-5000\n",
      "(218) 529-5003\n",
      "(919) 541-1522\n",
      "(919) 541-1194\n",
      " 541-754-4600\n",
      " 541-754-4799\n",
      "(303) 462-9000\n",
      "(513) 569-7907\n",
      "(919) 541-2106\n",
      "(919) 541-0445\n",
      " 513-569-7680\n",
      "(706) 355-8005\n",
      "(580) 436-8500\n",
      "(702) 798-2100\n",
      "(702) 798-2637\n",
      "(919) 541-2281\n",
      "(919) 541-4324\n",
      "(919) 541-2821\n",
      "(919) 541-5227\n",
      "(401) 782-3001\n",
      "(734) 214-4200\n",
      "(401) 782-3030\n",
      "(702) 784-8200\n",
      "(513) 487-2081\n",
      "(513) 487-2545\n",
      "(919) 541-1148\n",
      "(919) 541-0616\n",
      "(702) 798-2485\n",
      "(702) 798-2423\n"
     ]
    }
   ],
   "source": [
    "f = open(\"telephone_output.txt\", \"w\")\n",
    "\n",
    "output1 = re.finditer('(\\+[0-9\\-]+\\s+)?[\\(\\-\\s]?[0-9]{3}[\\)\\-\\s]?\\s*[0-9]{3}[\\-\\s]?\\s*[0-9]{4}', lines)\n",
    "\n",
    "for item in output1:\n",
    "    print(item.group(0))\n",
    "    f.write(item.group(0))\n",
    "    f.write('\\n')\n",
    "\n",
    "f.close()"
   ]
  },
  {
   "cell_type": "code",
   "execution_count": null,
   "id": "740a9dec",
   "metadata": {},
   "outputs": [],
   "source": []
  },
  {
   "cell_type": "code",
   "execution_count": null,
   "id": "93b632f3",
   "metadata": {},
   "outputs": [],
   "source": []
  },
  {
   "cell_type": "code",
   "execution_count": null,
   "id": "04e0a218",
   "metadata": {},
   "outputs": [],
   "source": []
  }
 ],
 "metadata": {
  "kernelspec": {
   "display_name": "Python 3 (ipykernel)",
   "language": "python",
   "name": "python3"
  },
  "language_info": {
   "codemirror_mode": {
    "name": "ipython",
    "version": 3
   },
   "file_extension": ".py",
   "mimetype": "text/x-python",
   "name": "python",
   "nbconvert_exporter": "python",
   "pygments_lexer": "ipython3",
   "version": "3.9.12"
  }
 },
 "nbformat": 4,
 "nbformat_minor": 5
}
